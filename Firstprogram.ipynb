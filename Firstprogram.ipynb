{
  "nbformat": 4,
  "nbformat_minor": 0,
  "metadata": {
    "colab": {
      "provenance": []
    },
    "kernelspec": {
      "name": "python3",
      "display_name": "Python 3"
    },
    "language_info": {
      "name": "python"
    }
  },
  "cells": [
    {
      "cell_type": "code",
      "execution_count": 1,
      "metadata": {
        "colab": {
          "base_uri": "https://localhost:8080/"
        },
        "id": "jLf0WsBMrGha",
        "outputId": "32327019-ee77-4a99-88fd-543baf81dc01"
      },
      "outputs": [
        {
          "output_type": "stream",
          "name": "stdout",
          "text": [
            "Hello,world!\n"
          ]
        }
      ],
      "source": [
        "print(\"Hello,world!\")"
      ]
    },
    {
      "cell_type": "code",
      "source": [
        "print(\"Ananya!\")"
      ],
      "metadata": {
        "colab": {
          "base_uri": "https://localhost:8080/"
        },
        "id": "JcbFczBurgL9",
        "outputId": "80798496-d7d4-4031-e054-0d5de475375d"
      },
      "execution_count": 2,
      "outputs": [
        {
          "output_type": "stream",
          "name": "stdout",
          "text": [
            "Ananya!\n"
          ]
        }
      ]
    },
    {
      "cell_type": "code",
      "source": [],
      "metadata": {
        "id": "z_eLaZMar763"
      },
      "execution_count": null,
      "outputs": []
    }
  ]
}